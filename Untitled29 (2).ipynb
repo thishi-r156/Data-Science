{
  "nbformat": 4,
  "nbformat_minor": 0,
  "metadata": {
    "colab": {
      "provenance": []
    },
    "kernelspec": {
      "name": "python3",
      "display_name": "Python 3"
    },
    "language_info": {
      "name": "python"
    }
  },
  "cells": [
    {
      "cell_type": "code",
      "execution_count": null,
      "metadata": {
        "id": "zb-T6-XbYoB_"
      },
      "outputs": [],
      "source": [
        "import matplotlib.pyplot as plt\n",
        "jury = Table().with_columns(\n",
        "'Ethnicity', make_array('Asian', 'Black', 'Latino', 'White',\n",
        "'Other'),\n",
        "'Eligible', make_array(0.15, 0.18, 0.12, 0.54, 0.01),\n",
        "'Panels', make_array(0.26, 0.08, 0.08, 0.54, 0.04)\n",
        ")\n",
        "#print(jury.column('Ethnicity'))\n",
        "plt.barh(jury.column('Ethnicity'), width=0.8)\n",
        "plt.show()\n",
        "eligible_population = jury.column('Eligible')\n",
        "sample_distribution = sample_proportions(1453,\n",
        "eligible_population)\n",
        "panels_and_sample = jury.with_column('Random Sample',\n",
        "sample_distribution)\n",
        "panels_and_sample\n",
        "jury_with_diffs = jury.with_column(\n",
        "'Difference', jury.column('Panels') -\n",
        "jury.column('Eligible')\n",
        ")\n",
        "jury_with_diffs = jury_with_diffs.with_column(\n",
        "'Absolute Difference',\n",
        "np.abs(jury_with_diffs.column('Difference'))\n",
        ")\n",
        "\n",
        "jury_with_diffs.column('Absolute Difference').sum()/2\n",
        "\n",
        "def total_variation_distance(distribution_1, distribution_2):\n",
        "  return sum(np.abs(distribution_1 - distribution_2)) / 2\n",
        "\n",
        "print(total_variation_distance(jury.column('Panels'),jury.column('Eligible')))\n",
        "\n",
        "sample_distribution = sample_proportions(1453,eligible_population)\n",
        "print(total_variation_distance(sample_distribution,eligible_population))\n",
        "\n",
        "eligible_population = jury.column('Eligible')\n",
        "panel_size = 1453\n",
        "tvds = make_array()\n",
        "repetitions = 5000\n",
        "for i in np.arange(repetitions):\n",
        "  sample_distribution = sample_proportions(panel_size,eligible_population)\n",
        "  new_tvd = total_variation_distance(sample_distribution,eligible_population)\n",
        "  tvds = np.append(tvds, new_tvd)\n",
        "Table().with_column('TVD', tvds).hist(bins=np.arange(0, 0.2,0.005))\n"
      ]
    }
  ]
}